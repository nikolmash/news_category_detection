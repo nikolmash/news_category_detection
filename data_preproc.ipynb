{
  "nbformat": 4,
  "nbformat_minor": 0,
  "metadata": {
    "kernelspec": {
      "display_name": "Python 3",
      "language": "python",
      "name": "python3"
    },
    "language_info": {
      "codemirror_mode": {
        "name": "ipython",
        "version": 2
      },
      "file_extension": ".py",
      "mimetype": "text/x-python",
      "name": "python",
      "nbconvert_exporter": "python",
      "pygments_lexer": "ipython2",
      "version": "2.7.6"
    },
    "pycharm": {
      "stem_cell": {
        "cell_type": "raw",
        "source": [],
        "metadata": {
          "collapsed": false
        }
      }
    },
    "colab": {
      "name": "data_preproc.ipynb",
      "provenance": [],
      "include_colab_link": true
    }
  },
  "cells": [
    {
      "cell_type": "markdown",
      "metadata": {
        "id": "view-in-github",
        "colab_type": "text"
      },
      "source": [
        "<a href=\"https://colab.research.google.com/github/nikolmash/news_category_detection/blob/master/data_preproc.ipynb\" target=\"_parent\"><img src=\"https://colab.research.google.com/assets/colab-badge.svg\" alt=\"Open In Colab\"/></a>"
      ]
    },
    {
      "cell_type": "markdown",
      "metadata": {
        "id": "9Ua2apnb2srV",
        "colab_type": "text"
      },
      "source": [
        "# **Предобработка корпуса новостных статей**\n",
        "\n"
      ]
    },
    {
      "cell_type": "code",
      "metadata": {
        "pycharm": {
          "is_executing": false
        },
        "id": "XVDl29UB2edd",
        "colab_type": "code",
        "colab": {}
      },
      "source": [
        "import pandas as pd"
      ],
      "execution_count": 1,
      "outputs": []
    },
    {
      "cell_type": "code",
      "metadata": {
        "pycharm": {
          "name": "#%%\n",
          "is_executing": false
        },
        "id": "g1VJr_dI2edl",
        "colab_type": "code",
        "colab": {}
      },
      "source": [
        "df = pd.read_csv('lenta-ru-news.csv', engine='python', delimiter=',', error_bad_lines=False)"
      ],
      "execution_count": null,
      "outputs": []
    },
    {
      "cell_type": "code",
      "metadata": {
        "pycharm": {
          "name": "#%%\n",
          "is_executing": false
        },
        "id": "-7f7P4oJ2edp",
        "colab_type": "code",
        "colab": {
          "base_uri": "https://localhost:8080/",
          "height": 289
        },
        "outputId": "5283a091-d133-40ce-e039-cd9a16b14541"
      },
      "source": [
        "df.head()"
      ],
      "execution_count": 3,
      "outputs": [
        {
          "output_type": "execute_result",
          "data": {
            "text/html": [
              "<div>\n",
              "<style scoped>\n",
              "    .dataframe tbody tr th:only-of-type {\n",
              "        vertical-align: middle;\n",
              "    }\n",
              "\n",
              "    .dataframe tbody tr th {\n",
              "        vertical-align: top;\n",
              "    }\n",
              "\n",
              "    .dataframe thead th {\n",
              "        text-align: right;\n",
              "    }\n",
              "</style>\n",
              "<table border=\"1\" class=\"dataframe\">\n",
              "  <thead>\n",
              "    <tr style=\"text-align: right;\">\n",
              "      <th></th>\n",
              "      <th>url</th>\n",
              "      <th>title</th>\n",
              "      <th>text</th>\n",
              "      <th>topic</th>\n",
              "      <th>tags</th>\n",
              "    </tr>\n",
              "  </thead>\n",
              "  <tbody>\n",
              "    <tr>\n",
              "      <th>0</th>\n",
              "      <td>https://lenta.ru/news/2015/06/26/khvorostovsky/</td>\n",
              "      <td>Хворостовский будет лечиться в Лондоне</td>\n",
              "      <td>Оперный певец Дмитрий Хворостовский, у которог...</td>\n",
              "      <td>Культура</td>\n",
              "      <td>Музыка</td>\n",
              "    </tr>\n",
              "    <tr>\n",
              "      <th>1</th>\n",
              "      <td>https://lenta.ru/news/2015/06/26/usa/</td>\n",
              "      <td>В США полиция застрелила очередного безоружног...</td>\n",
              "      <td>В США в пригороде Балтимора полицейские застре...</td>\n",
              "      <td>Мир</td>\n",
              "      <td>Общество</td>\n",
              "    </tr>\n",
              "    <tr>\n",
              "      <th>2</th>\n",
              "      <td>https://lenta.ru/news/2015/06/26/greece/</td>\n",
              "      <td>ЕС выразил надежду достичь соглашения с Грецие...</td>\n",
              "      <td>В руководстве Евросоюза рассчитывают, что согл...</td>\n",
              "      <td>Мир</td>\n",
              "      <td>Политика</td>\n",
              "    </tr>\n",
              "    <tr>\n",
              "      <th>3</th>\n",
              "      <td>https://lenta.ru/news/2015/06/26/bomb/</td>\n",
              "      <td>Дети подорвались на установленной владельцем д...</td>\n",
              "      <td>В Приморском крае двое детей подорвались на са...</td>\n",
              "      <td>Силовые структуры</td>\n",
              "      <td>Полиция и спецслужбы</td>\n",
              "    </tr>\n",
              "    <tr>\n",
              "      <th>4</th>\n",
              "      <td>https://lenta.ru/news/2015/06/26/eyesocket/</td>\n",
              "      <td>Зоркость людей объяснили устройством черепа</td>\n",
              "      <td>По сравнению с другими приматами человек облад...</td>\n",
              "      <td>Наука и техника</td>\n",
              "      <td>Наука</td>\n",
              "    </tr>\n",
              "  </tbody>\n",
              "</table>\n",
              "</div>"
            ],
            "text/plain": [
              "                                               url  ...                  tags\n",
              "0  https://lenta.ru/news/2015/06/26/khvorostovsky/  ...                Музыка\n",
              "1            https://lenta.ru/news/2015/06/26/usa/  ...              Общество\n",
              "2         https://lenta.ru/news/2015/06/26/greece/  ...              Политика\n",
              "3           https://lenta.ru/news/2015/06/26/bomb/  ...  Полиция и спецслужбы\n",
              "4      https://lenta.ru/news/2015/06/26/eyesocket/  ...                 Наука\n",
              "\n",
              "[5 rows x 5 columns]"
            ]
          },
          "metadata": {
            "tags": []
          },
          "execution_count": 3
        }
      ]
    },
    {
      "cell_type": "code",
      "metadata": {
        "pycharm": {
          "name": "#%%\n",
          "is_executing": false
        },
        "id": "Ox8cQke62edu",
        "colab_type": "code",
        "colab": {
          "base_uri": "https://localhost:8080/",
          "height": 221
        },
        "outputId": "4ef0255e-d068-40b8-b376-9ba32d697063"
      },
      "source": [
        "df.info()"
      ],
      "execution_count": 4,
      "outputs": [
        {
          "output_type": "stream",
          "text": [
            "<class 'pandas.core.frame.DataFrame'>\n",
            "RangeIndex: 143868 entries, 0 to 143867\n",
            "Data columns (total 5 columns):\n",
            " #   Column  Non-Null Count   Dtype \n",
            "---  ------  --------------   ----- \n",
            " 0   url     143868 non-null  object\n",
            " 1   title   143868 non-null  object\n",
            " 2   text    143867 non-null  object\n",
            " 3   topic   137705 non-null  object\n",
            " 4   tags    133666 non-null  object\n",
            "dtypes: object(5)\n",
            "memory usage: 5.5+ MB\n"
          ],
          "name": "stdout"
        }
      ]
    },
    {
      "cell_type": "code",
      "metadata": {
        "pycharm": {
          "name": "#%%\n",
          "is_executing": false
        },
        "id": "x0l3xSxr2edx",
        "colab_type": "code",
        "colab": {
          "base_uri": "https://localhost:8080/",
          "height": 221
        },
        "outputId": "95f4c63f-74dc-4d77-a15f-14adcf8d8dff"
      },
      "source": [
        "df.dropna(subset=['text', 'topic'], inplace=True)\n",
        "df.info()"
      ],
      "execution_count": 5,
      "outputs": [
        {
          "output_type": "stream",
          "text": [
            "<class 'pandas.core.frame.DataFrame'>\n",
            "Int64Index: 137704 entries, 0 to 143867\n",
            "Data columns (total 5 columns):\n",
            " #   Column  Non-Null Count   Dtype \n",
            "---  ------  --------------   ----- \n",
            " 0   url     137704 non-null  object\n",
            " 1   title   137704 non-null  object\n",
            " 2   text    137704 non-null  object\n",
            " 3   topic   137704 non-null  object\n",
            " 4   tags    127528 non-null  object\n",
            "dtypes: object(5)\n",
            "memory usage: 6.3+ MB\n"
          ],
          "name": "stdout"
        }
      ]
    },
    {
      "cell_type": "code",
      "metadata": {
        "pycharm": {
          "name": "#%%\n",
          "is_executing": false
        },
        "id": "vSlkqmqF2edz",
        "colab_type": "code",
        "colab": {
          "base_uri": "https://localhost:8080/",
          "height": 340
        },
        "outputId": "59513437-5685-4a8f-c838-5266ca64e93b"
      },
      "source": [
        "df.groupby('topic').count()['text']"
      ],
      "execution_count": 6,
      "outputs": [
        {
          "output_type": "execute_result",
          "data": {
            "text/plain": [
              "topic\n",
              "69-я параллель         905\n",
              "Бывший СССР          11088\n",
              "Дом                   4335\n",
              "Из жизни              4785\n",
              "Интернет и СМИ        8676\n",
              "Крым                   559\n",
              "Культпросвет           289\n",
              "Культура              8843\n",
              "Легпром                111\n",
              "Мир                  21249\n",
              "Наука и техника       7611\n",
              "Путешествия           5265\n",
              "Россия               22918\n",
              "Силовые структуры    12439\n",
              "Спорт                13761\n",
              "Ценности              6051\n",
              "Экономика             8819\n",
              "Name: text, dtype: int64"
            ]
          },
          "metadata": {
            "tags": []
          },
          "execution_count": 6
        }
      ]
    },
    {
      "cell_type": "markdown",
      "metadata": {
        "id": "bJuvLgDLD9Az",
        "colab_type": "text"
      },
      "source": [
        "Можно заметить, что некоторые классы статей оказываются слишком маленького размера, поэтому мы не будем учитывать их при обучении."
      ]
    },
    {
      "cell_type": "code",
      "metadata": {
        "pycharm": {
          "name": "#%%\n",
          "is_executing": false
        },
        "id": "rRzT5Ob82ed1",
        "colab_type": "code",
        "colab": {
          "base_uri": "https://localhost:8080/",
          "height": 272
        },
        "outputId": "4267ca8d-828c-4bb9-d44b-8f6398219e96"
      },
      "source": [
        "df = df.query(\"topic not in ['69-я параллель', 'Крым', 'Культпросвет ', 'Легпром']\")\n",
        "df.groupby('topic').count()['text']"
      ],
      "execution_count": 7,
      "outputs": [
        {
          "output_type": "execute_result",
          "data": {
            "text/plain": [
              "topic\n",
              "Бывший СССР          11088\n",
              "Дом                   4335\n",
              "Из жизни              4785\n",
              "Интернет и СМИ        8676\n",
              "Культура              8843\n",
              "Мир                  21249\n",
              "Наука и техника       7611\n",
              "Путешествия           5265\n",
              "Россия               22918\n",
              "Силовые структуры    12439\n",
              "Спорт                13761\n",
              "Ценности              6051\n",
              "Экономика             8819\n",
              "Name: text, dtype: int64"
            ]
          },
          "metadata": {
            "tags": []
          },
          "execution_count": 7
        }
      ]
    },
    {
      "cell_type": "code",
      "metadata": {
        "pycharm": {
          "name": "#%%\n",
          "is_executing": false
        },
        "id": "qcr3CjUz2ed3",
        "colab_type": "code",
        "colab": {}
      },
      "source": [
        "df.to_csv('lenta-ru-news.csv', sep=',', encoding='utf-8')"
      ],
      "execution_count": 8,
      "outputs": []
    }
  ]
}