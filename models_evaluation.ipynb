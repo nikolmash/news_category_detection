{
  "nbformat": 4,
  "nbformat_minor": 0,
  "metadata": {
    "colab": {
      "name": "models evaluation.ipynb",
      "provenance": [],
      "authorship_tag": "ABX9TyNocVpOwK+JeuPY2u07q6CF"
    },
    "kernelspec": {
      "name": "python3",
      "display_name": "Python 3"
    }
  },
  "cells": [
    {
      "cell_type": "code",
      "metadata": {
        "id": "P3T2WEeTjGoN",
        "colab_type": "code",
        "colab": {
          "base_uri": "https://localhost:8080/",
          "height": 228
        },
        "outputId": "27fc1afc-678d-4769-bce7-a2541f7d8e77"
      },
      "source": [
        "!pip install pymorphy2"
      ],
      "execution_count": null,
      "outputs": [
        {
          "output_type": "stream",
          "text": [
            "Collecting pymorphy2\n",
            "\u001b[?25l  Downloading https://files.pythonhosted.org/packages/a3/33/fff9675c68b5f6c63ec8c6e6ff57827dda28a1fa5b2c2d727dffff92dd47/pymorphy2-0.8-py2.py3-none-any.whl (46kB)\n",
            "\r\u001b[K     |███████                         | 10kB 17.8MB/s eta 0:00:01\r\u001b[K     |██████████████▏                 | 20kB 1.7MB/s eta 0:00:01\r\u001b[K     |█████████████████████▎          | 30kB 2.3MB/s eta 0:00:01\r\u001b[K     |████████████████████████████▍   | 40kB 2.6MB/s eta 0:00:01\r\u001b[K     |████████████████████████████████| 51kB 1.7MB/s \n",
            "\u001b[?25hRequirement already satisfied: docopt>=0.6 in /usr/local/lib/python3.6/dist-packages (from pymorphy2) (0.6.2)\n",
            "Collecting dawg-python>=0.7\n",
            "  Downloading https://files.pythonhosted.org/packages/6a/84/ff1ce2071d4c650ec85745766c0047ccc3b5036f1d03559fd46bb38b5eeb/DAWG_Python-0.7.2-py2.py3-none-any.whl\n",
            "Collecting pymorphy2-dicts<3.0,>=2.4\n",
            "\u001b[?25l  Downloading https://files.pythonhosted.org/packages/02/51/2465fd4f72328ab50877b54777764d928da8cb15b74e2680fc1bd8cb3173/pymorphy2_dicts-2.4.393442.3710985-py2.py3-none-any.whl (7.1MB)\n",
            "\u001b[K     |████████████████████████████████| 7.1MB 5.9MB/s \n",
            "\u001b[?25hInstalling collected packages: dawg-python, pymorphy2-dicts, pymorphy2\n",
            "Successfully installed dawg-python-0.7.2 pymorphy2-0.8 pymorphy2-dicts-2.4.393442.3710985\n"
          ],
          "name": "stdout"
        }
      ]
    },
    {
      "cell_type": "code",
      "metadata": {
        "id": "hPFL-ThukCFV",
        "colab_type": "code",
        "colab": {}
      },
      "source": [
        "import pandas as pd\n",
        "import nltk\n",
        "from sklearn.linear_model import LogisticRegression\n",
        "from sklearn.feature_extraction.text import TfidfVectorizer\n",
        "from sklearn.metrics import classification_report\n",
        "from joblib import load\n",
        "from preprocessing import TextPreprocessing"
      ],
      "execution_count": null,
      "outputs": []
    },
    {
      "cell_type": "code",
      "metadata": {
        "id": "8Ut13hyIkUPl",
        "colab_type": "code",
        "colab": {
          "base_uri": "https://localhost:8080/",
          "height": 124
        },
        "outputId": "8daef064-7a49-4950-a14a-505b026d9643"
      },
      "source": [
        "from google.colab import drive  \n",
        "drive.mount('/content/gdrive')"
      ],
      "execution_count": null,
      "outputs": [
        {
          "output_type": "stream",
          "text": [
            "Go to this URL in a browser: https://accounts.google.com/o/oauth2/auth?client_id=947318989803-6bn6qk8qdgf4n4g3pfee6491hc0brc4i.apps.googleusercontent.com&redirect_uri=urn%3aietf%3awg%3aoauth%3a2.0%3aoob&response_type=code&scope=email%20https%3a%2f%2fwww.googleapis.com%2fauth%2fdocs.test%20https%3a%2f%2fwww.googleapis.com%2fauth%2fdrive%20https%3a%2f%2fwww.googleapis.com%2fauth%2fdrive.photos.readonly%20https%3a%2f%2fwww.googleapis.com%2fauth%2fpeopleapi.readonly\n",
            "\n",
            "Enter your authorization code:\n",
            "··········\n",
            "Mounted at /content/gdrive\n"
          ],
          "name": "stdout"
        }
      ]
    },
    {
      "cell_type": "code",
      "metadata": {
        "id": "NyvlKsWQkgEh",
        "colab_type": "code",
        "colab": {
          "base_uri": "https://localhost:8080/",
          "height": 34
        },
        "outputId": "2fe3426d-8a27-46c3-811b-92386a8cd598"
      },
      "source": [
        "TOPICS = {'Культура':0, 'Мир':1, 'Силовые структуры' :2, 'Наука и техника' :3,\n",
        "          'Россия' :4, 'Спорт' :5, 'Дом' :6, 'Бывший СССР' :7,  'Экономика' :8,\n",
        "          'Интернет и СМИ' :9, 'Из жизни' :10, 'Путешествия' : 11,  'Ценности' :12}\n",
        "\n",
        "df = pd.read_csv('/content/gdrive/My Drive/lenta_ru_news.csv')\n",
        "test_data = df['text'].loc[50001:70000]\n",
        "y_test = df['topic'].loc[50001:70000].map(TOPICS)\n",
        "print('Размер тестовой выборки: ', test_data.shape[0])"
      ],
      "execution_count": null,
      "outputs": [
        {
          "output_type": "stream",
          "text": [
            "Размер тестовой выборки:  20000\n"
          ],
          "name": "stdout"
        }
      ]
    },
    {
      "cell_type": "markdown",
      "metadata": {
        "id": "lxOFY9Iamnlh",
        "colab_type": "text"
      },
      "source": [
        "**Модель без удаления стоп слов и без лемматизации:**"
      ]
    },
    {
      "cell_type": "code",
      "metadata": {
        "id": "-c9f1xRrkVDb",
        "colab_type": "code",
        "colab": {
          "base_uri": "https://localhost:8080/",
          "height": 730
        },
        "outputId": "90d91dcb-6193-4d7a-ab83-0ef5a5e2ae54"
      },
      "source": [
        "!wget https://www.dropbox.com/s/jepxzzyd982ef3n/tfidf_0_0.pkl?dl=1\n",
        "!wget https://www.dropbox.com/s/ev6ylo08fv0g70h/lr_0_0.joblib?dl=1"
      ],
      "execution_count": null,
      "outputs": [
        {
          "output_type": "stream",
          "text": [
            "--2020-06-28 10:57:55--  https://www.dropbox.com/s/jepxzzyd982ef3n/tfidf_0_0.pkl?dl=1\n",
            "Resolving www.dropbox.com (www.dropbox.com)... 162.125.5.1, 2620:100:601d:1::a27d:501\n",
            "Connecting to www.dropbox.com (www.dropbox.com)|162.125.5.1|:443... connected.\n",
            "HTTP request sent, awaiting response... 301 Moved Permanently\n",
            "Location: /s/dl/jepxzzyd982ef3n/tfidf_0_0.pkl [following]\n",
            "--2020-06-28 10:57:56--  https://www.dropbox.com/s/dl/jepxzzyd982ef3n/tfidf_0_0.pkl\n",
            "Reusing existing connection to www.dropbox.com:443.\n",
            "HTTP request sent, awaiting response... 302 Found\n",
            "Location: https://uce9fadd0e73b87f6a5d60ece3c7.dl.dropboxusercontent.com/cd/0/get/A6hp6bliMQLxzsgrC3xSVaYF0kWzUnKwNdzPfG_L4V0i_2LJ8wieLNPJhJFxW_EgAjmpAzikUV7f3tG98aBZuLi5p3SPBT0ChMpXEKLmC8PNgPVea4j2Brdy_h9SzX2lllc/file?dl=1# [following]\n",
            "--2020-06-28 10:57:56--  https://uce9fadd0e73b87f6a5d60ece3c7.dl.dropboxusercontent.com/cd/0/get/A6hp6bliMQLxzsgrC3xSVaYF0kWzUnKwNdzPfG_L4V0i_2LJ8wieLNPJhJFxW_EgAjmpAzikUV7f3tG98aBZuLi5p3SPBT0ChMpXEKLmC8PNgPVea4j2Brdy_h9SzX2lllc/file?dl=1\n",
            "Resolving uce9fadd0e73b87f6a5d60ece3c7.dl.dropboxusercontent.com (uce9fadd0e73b87f6a5d60ece3c7.dl.dropboxusercontent.com)... 162.125.5.15, 2620:100:601d:15::a27d:50f\n",
            "Connecting to uce9fadd0e73b87f6a5d60ece3c7.dl.dropboxusercontent.com (uce9fadd0e73b87f6a5d60ece3c7.dl.dropboxusercontent.com)|162.125.5.15|:443... connected.\n",
            "HTTP request sent, awaiting response... 200 OK\n",
            "Length: 877333321 (837M) [application/binary]\n",
            "Saving to: ‘tfidf_0_0.pkl?dl=1.1’\n",
            "\n",
            "tfidf_0_0.pkl?dl=1. 100%[===================>] 836.69M  64.9MB/s    in 13s     \n",
            "\n",
            "2020-06-28 10:58:10 (62.8 MB/s) - ‘tfidf_0_0.pkl?dl=1.1’ saved [877333321/877333321]\n",
            "\n",
            "--2020-06-28 10:58:11--  https://www.dropbox.com/s/ev6ylo08fv0g70h/lr_0_0.joblib?dl=1\n",
            "Resolving www.dropbox.com (www.dropbox.com)... 162.125.5.1, 2620:100:601d:1::a27d:501\n",
            "Connecting to www.dropbox.com (www.dropbox.com)|162.125.5.1|:443... connected.\n",
            "HTTP request sent, awaiting response... 301 Moved Permanently\n",
            "Location: /s/dl/ev6ylo08fv0g70h/lr_0_0.joblib [following]\n",
            "--2020-06-28 10:58:11--  https://www.dropbox.com/s/dl/ev6ylo08fv0g70h/lr_0_0.joblib\n",
            "Reusing existing connection to www.dropbox.com:443.\n",
            "HTTP request sent, awaiting response... 302 Found\n",
            "Location: https://ucef40c412e66b6bfcea56a5c37c.dl.dropboxusercontent.com/cd/0/get/A6j9NtCgtb-dOg5KyZRhZ9KTJjgITyDoO_G-vr8sE4MbpNZ33nzKKbOkCZWXVELmmLSE5G1X-7NIZ3op6xwGlYeOnwk35cvpINKVnRlwEK4BP65vL0hHI46XkHTQqOXiyYM/file?dl=1# [following]\n",
            "--2020-06-28 10:58:12--  https://ucef40c412e66b6bfcea56a5c37c.dl.dropboxusercontent.com/cd/0/get/A6j9NtCgtb-dOg5KyZRhZ9KTJjgITyDoO_G-vr8sE4MbpNZ33nzKKbOkCZWXVELmmLSE5G1X-7NIZ3op6xwGlYeOnwk35cvpINKVnRlwEK4BP65vL0hHI46XkHTQqOXiyYM/file?dl=1\n",
            "Resolving ucef40c412e66b6bfcea56a5c37c.dl.dropboxusercontent.com (ucef40c412e66b6bfcea56a5c37c.dl.dropboxusercontent.com)... 162.125.5.15, 2620:100:601d:15::a27d:50f\n",
            "Connecting to ucef40c412e66b6bfcea56a5c37c.dl.dropboxusercontent.com (ucef40c412e66b6bfcea56a5c37c.dl.dropboxusercontent.com)|162.125.5.15|:443... connected.\n",
            "HTTP request sent, awaiting response... 200 OK\n",
            "Length: 969073082 (924M) [application/binary]\n",
            "Saving to: ‘lr_0_0.joblib?dl=1’\n",
            "\n",
            "lr_0_0.joblib?dl=1  100%[===================>] 924.18M  59.8MB/s    in 15s     \n",
            "\n",
            "2020-06-28 10:58:28 (60.4 MB/s) - ‘lr_0_0.joblib?dl=1’ saved [969073082/969073082]\n",
            "\n"
          ],
          "name": "stdout"
        }
      ]
    },
    {
      "cell_type": "code",
      "metadata": {
        "id": "gCEX5ef2mymN",
        "colab_type": "code",
        "colab": {}
      },
      "source": [
        "tfidf_vectorizer = load('tfidf_0_0.pkl?dl=1')\n",
        "model = load('lr_0_0.joblib?dl=1')"
      ],
      "execution_count": null,
      "outputs": []
    },
    {
      "cell_type": "code",
      "metadata": {
        "id": "OyTrdzbCn5q8",
        "colab_type": "code",
        "colab": {
          "base_uri": "https://localhost:8080/",
          "height": 364
        },
        "outputId": "aeccb131-82af-4fc5-fa51-44eb458f4565"
      },
      "source": [
        "prep = TextPreprocessing(0,0)\n",
        "test = test_data.apply(prep.preprocess)\n",
        "test = tfidf_vectorizer.transform(test)\n",
        "y_pred = model.predict(test)\n",
        "print(classification_report(y_test, y_pred))"
      ],
      "execution_count": null,
      "outputs": [
        {
          "output_type": "stream",
          "text": [
            "              precision    recall  f1-score   support\n",
            "\n",
            "           0       0.79      0.77      0.78       934\n",
            "           1       0.73      0.92      0.82      3213\n",
            "           2       0.86      0.68      0.76      1745\n",
            "           3       0.92      0.90      0.91      1063\n",
            "           4       0.64      0.88      0.74      3244\n",
            "           5       0.94      0.96      0.95      2185\n",
            "           6       0.98      0.71      0.82       898\n",
            "           7       0.83      0.80      0.82      1641\n",
            "           8       0.92      0.88      0.90      1317\n",
            "           9       0.86      0.53      0.66      1447\n",
            "          10       0.73      0.47      0.57       588\n",
            "          11       0.94      0.42      0.58       881\n",
            "          12       0.97      0.90      0.93       844\n",
            "\n",
            "    accuracy                           0.80     20000\n",
            "   macro avg       0.86      0.76      0.79     20000\n",
            "weighted avg       0.82      0.80      0.80     20000\n",
            "\n"
          ],
          "name": "stdout"
        }
      ]
    },
    {
      "cell_type": "markdown",
      "metadata": {
        "id": "rpl5ttHFqiMF",
        "colab_type": "text"
      },
      "source": [
        "**Модель без удаления стоп слов и с лемматизацией:**"
      ]
    },
    {
      "cell_type": "code",
      "metadata": {
        "id": "9lMvjTYJrQfY",
        "colab_type": "code",
        "colab": {
          "base_uri": "https://localhost:8080/",
          "height": 730
        },
        "outputId": "675ec923-0157-4bf4-eda6-1c187c16d1ef"
      },
      "source": [
        "!wget https://www.dropbox.com/s/namig2jwslatn4h/tfidf_0_1.pkl?dl=1\n",
        "!wget https://www.dropbox.com/s/0uh0vc1x7rzpi5u/lr_0_1.joblib?dl=1"
      ],
      "execution_count": null,
      "outputs": [
        {
          "output_type": "stream",
          "text": [
            "--2020-06-28 17:20:18--  https://www.dropbox.com/s/namig2jwslatn4h/tfidf_0_1.pkl?dl=1\n",
            "Resolving www.dropbox.com (www.dropbox.com)... 162.125.5.1, 2620:100:601d:1::a27d:501\n",
            "Connecting to www.dropbox.com (www.dropbox.com)|162.125.5.1|:443... connected.\n",
            "HTTP request sent, awaiting response... 301 Moved Permanently\n",
            "Location: /s/dl/namig2jwslatn4h/tfidf_0_1.pkl [following]\n",
            "--2020-06-28 17:20:19--  https://www.dropbox.com/s/dl/namig2jwslatn4h/tfidf_0_1.pkl\n",
            "Reusing existing connection to www.dropbox.com:443.\n",
            "HTTP request sent, awaiting response... 302 Found\n",
            "Location: https://ucd42fed0f2c230937652f0f4d26.dl.dropboxusercontent.com/cd/0/get/A6jOsUNpNMbY0UJ_Mv5KNduG8KCmva_0GMwlOmGAVLEFqC2loy-hKjwTWcGgDIJgH9Gw1EF8nqPYMk_zqsKfeVL2Cbkoe5IcPNk_CZrD5Vp24VK1jBe3xLD8j2X4PBoNzZk/file?dl=1# [following]\n",
            "--2020-06-28 17:20:19--  https://ucd42fed0f2c230937652f0f4d26.dl.dropboxusercontent.com/cd/0/get/A6jOsUNpNMbY0UJ_Mv5KNduG8KCmva_0GMwlOmGAVLEFqC2loy-hKjwTWcGgDIJgH9Gw1EF8nqPYMk_zqsKfeVL2Cbkoe5IcPNk_CZrD5Vp24VK1jBe3xLD8j2X4PBoNzZk/file?dl=1\n",
            "Resolving ucd42fed0f2c230937652f0f4d26.dl.dropboxusercontent.com (ucd42fed0f2c230937652f0f4d26.dl.dropboxusercontent.com)... 162.125.5.15, 2620:100:601d:15::a27d:50f\n",
            "Connecting to ucd42fed0f2c230937652f0f4d26.dl.dropboxusercontent.com (ucd42fed0f2c230937652f0f4d26.dl.dropboxusercontent.com)|162.125.5.15|:443... connected.\n",
            "HTTP request sent, awaiting response... 200 OK\n",
            "Length: 745041352 (711M) [application/binary]\n",
            "Saving to: ‘tfidf_0_1.pkl?dl=1’\n",
            "\n",
            "tfidf_0_1.pkl?dl=1  100%[===================>] 710.53M  47.6MB/s    in 15s     \n",
            "\n",
            "2020-06-28 17:20:35 (47.4 MB/s) - ‘tfidf_0_1.pkl?dl=1’ saved [745041352/745041352]\n",
            "\n",
            "--2020-06-28 17:20:36--  https://www.dropbox.com/s/0uh0vc1x7rzpi5u/lr_0_1.joblib?dl=1\n",
            "Resolving www.dropbox.com (www.dropbox.com)... 162.125.5.1, 2620:100:601d:1::a27d:501\n",
            "Connecting to www.dropbox.com (www.dropbox.com)|162.125.5.1|:443... connected.\n",
            "HTTP request sent, awaiting response... 301 Moved Permanently\n",
            "Location: /s/dl/0uh0vc1x7rzpi5u/lr_0_1.joblib [following]\n",
            "--2020-06-28 17:20:36--  https://www.dropbox.com/s/dl/0uh0vc1x7rzpi5u/lr_0_1.joblib\n",
            "Reusing existing connection to www.dropbox.com:443.\n",
            "HTTP request sent, awaiting response... 302 Found\n",
            "Location: https://uc237b277ea99cb84bb94a1b5de2.dl.dropboxusercontent.com/cd/0/get/A6iVPiRiJ7a8W8erfLkMP1FVo2d3nWJiCxIxqUrZeRXc82RT98raNHUyrrZd6YrDmnZ1G6JCiu4RX80k5vDdAxNPHV9mQhxedth1UvSGq10cns9ZeNHkcuxsyQez5ATbQXY/file?dl=1# [following]\n",
            "--2020-06-28 17:20:37--  https://uc237b277ea99cb84bb94a1b5de2.dl.dropboxusercontent.com/cd/0/get/A6iVPiRiJ7a8W8erfLkMP1FVo2d3nWJiCxIxqUrZeRXc82RT98raNHUyrrZd6YrDmnZ1G6JCiu4RX80k5vDdAxNPHV9mQhxedth1UvSGq10cns9ZeNHkcuxsyQez5ATbQXY/file?dl=1\n",
            "Resolving uc237b277ea99cb84bb94a1b5de2.dl.dropboxusercontent.com (uc237b277ea99cb84bb94a1b5de2.dl.dropboxusercontent.com)... 162.125.5.15, 2620:100:601d:15::a27d:50f\n",
            "Connecting to uc237b277ea99cb84bb94a1b5de2.dl.dropboxusercontent.com (uc237b277ea99cb84bb94a1b5de2.dl.dropboxusercontent.com)|162.125.5.15|:443... connected.\n",
            "HTTP request sent, awaiting response... 200 OK\n",
            "Length: 822182546 (784M) [application/binary]\n",
            "Saving to: ‘lr_0_1.joblib?dl=1’\n",
            "\n",
            "lr_0_1.joblib?dl=1  100%[===================>] 784.09M  63.4MB/s    in 12s     \n",
            "\n",
            "2020-06-28 17:20:50 (62.9 MB/s) - ‘lr_0_1.joblib?dl=1’ saved [822182546/822182546]\n",
            "\n"
          ],
          "name": "stdout"
        }
      ]
    },
    {
      "cell_type": "code",
      "metadata": {
        "id": "Fyu6DsZtrhPy",
        "colab_type": "code",
        "colab": {}
      },
      "source": [
        "tfidf_vectorizer = load('tfidf_0_1.pkl?dl=1')\n",
        "model = load('lr_0_1.joblib?dl=1')"
      ],
      "execution_count": null,
      "outputs": []
    },
    {
      "cell_type": "code",
      "metadata": {
        "id": "9KoMRLMurplh",
        "colab_type": "code",
        "colab": {
          "base_uri": "https://localhost:8080/",
          "height": 364
        },
        "outputId": "0b1d1843-d0d8-494e-c27c-8f63dfc0c4da"
      },
      "source": [
        "prep = TextPreprocessing(0,1)\n",
        "test = test_data.apply(prep.preprocess)\n",
        "test = tfidf_vectorizer.transform(test)\n",
        "y_pred = model.predict(test)\n",
        "print(classification_report(y_test, y_pred))"
      ],
      "execution_count": null,
      "outputs": [
        {
          "output_type": "stream",
          "text": [
            "              precision    recall  f1-score   support\n",
            "\n",
            "           0       0.79      0.80      0.80       934\n",
            "           1       0.76      0.92      0.83      3213\n",
            "           2       0.85      0.70      0.77      1745\n",
            "           3       0.90      0.92      0.91      1063\n",
            "           4       0.68      0.87      0.77      3244\n",
            "           5       0.93      0.97      0.95      2185\n",
            "           6       0.97      0.74      0.84       898\n",
            "           7       0.83      0.81      0.82      1641\n",
            "           8       0.92      0.90      0.91      1317\n",
            "           9       0.86      0.57      0.69      1447\n",
            "          10       0.70      0.51      0.59       588\n",
            "          11       0.92      0.54      0.68       881\n",
            "          12       0.98      0.90      0.94       844\n",
            "\n",
            "    accuracy                           0.82     20000\n",
            "   macro avg       0.85      0.78      0.81     20000\n",
            "weighted avg       0.83      0.82      0.82     20000\n",
            "\n"
          ],
          "name": "stdout"
        }
      ]
    },
    {
      "cell_type": "markdown",
      "metadata": {
        "id": "ZAXzFda9rroG",
        "colab_type": "text"
      },
      "source": [
        "**Модель с удалением стоп-слов и без лемматизации:**"
      ]
    },
    {
      "cell_type": "code",
      "metadata": {
        "id": "os7kodDbruVu",
        "colab_type": "code",
        "colab": {
          "base_uri": "https://localhost:8080/",
          "height": 730
        },
        "outputId": "38e22a24-214b-41d0-938f-bf27d3a14f0b"
      },
      "source": [
        "!wget https://www.dropbox.com/s/73m7wqvi9q8gb1j/tfidf_1_0.pkl?dl=1\n",
        "!wget https://www.dropbox.com/s/01wzyc7wtifyezl/lr_1_0.joblib?dl=1"
      ],
      "execution_count": null,
      "outputs": [
        {
          "output_type": "stream",
          "text": [
            "--2020-06-28 11:44:56--  https://www.dropbox.com/s/73m7wqvi9q8gb1j/tfidf_1_0.pkl?dl=1\n",
            "Resolving www.dropbox.com (www.dropbox.com)... 162.125.5.1, 2620:100:601d:1::a27d:501\n",
            "Connecting to www.dropbox.com (www.dropbox.com)|162.125.5.1|:443... connected.\n",
            "HTTP request sent, awaiting response... 301 Moved Permanently\n",
            "Location: /s/dl/73m7wqvi9q8gb1j/tfidf_1_0.pkl [following]\n",
            "--2020-06-28 11:44:56--  https://www.dropbox.com/s/dl/73m7wqvi9q8gb1j/tfidf_1_0.pkl\n",
            "Reusing existing connection to www.dropbox.com:443.\n",
            "HTTP request sent, awaiting response... 302 Found\n",
            "Location: https://ucbe5702b801ef46cc5bd32fadd4.dl.dropboxusercontent.com/cd/0/get/A6i7zN43kakRW3xZHRCgrBORlJeoGIKpr8T8JuDeVYvE3n_rmUmEkDEWiuICYpug1U51B1gZ2muhxWB0V-wk64oBQsLVvcyH3fANunfagXeOFN2y_e3qfPMTjPxc5VS9kRo/file?dl=1# [following]\n",
            "--2020-06-28 11:44:56--  https://ucbe5702b801ef46cc5bd32fadd4.dl.dropboxusercontent.com/cd/0/get/A6i7zN43kakRW3xZHRCgrBORlJeoGIKpr8T8JuDeVYvE3n_rmUmEkDEWiuICYpug1U51B1gZ2muhxWB0V-wk64oBQsLVvcyH3fANunfagXeOFN2y_e3qfPMTjPxc5VS9kRo/file?dl=1\n",
            "Resolving ucbe5702b801ef46cc5bd32fadd4.dl.dropboxusercontent.com (ucbe5702b801ef46cc5bd32fadd4.dl.dropboxusercontent.com)... 162.125.5.15, 2620:100:601d:15::a27d:50f\n",
            "Connecting to ucbe5702b801ef46cc5bd32fadd4.dl.dropboxusercontent.com (ucbe5702b801ef46cc5bd32fadd4.dl.dropboxusercontent.com)|162.125.5.15|:443... connected.\n",
            "HTTP request sent, awaiting response... 200 OK\n",
            "Length: 857201527 (817M) [application/binary]\n",
            "Saving to: ‘tfidf_1_0.pkl?dl=1’\n",
            "\n",
            "tfidf_1_0.pkl?dl=1  100%[===================>] 817.49M  63.4MB/s    in 13s     \n",
            "\n",
            "2020-06-28 11:45:10 (61.9 MB/s) - ‘tfidf_1_0.pkl?dl=1’ saved [857201527/857201527]\n",
            "\n",
            "--2020-06-28 11:45:12--  https://www.dropbox.com/s/01wzyc7wtifyezl/lr_1_0.joblib?dl=1\n",
            "Resolving www.dropbox.com (www.dropbox.com)... 162.125.5.1, 2620:100:601d:1::a27d:501\n",
            "Connecting to www.dropbox.com (www.dropbox.com)|162.125.5.1|:443... connected.\n",
            "HTTP request sent, awaiting response... 301 Moved Permanently\n",
            "Location: /s/dl/01wzyc7wtifyezl/lr_1_0.joblib [following]\n",
            "--2020-06-28 11:45:12--  https://www.dropbox.com/s/dl/01wzyc7wtifyezl/lr_1_0.joblib\n",
            "Reusing existing connection to www.dropbox.com:443.\n",
            "HTTP request sent, awaiting response... 302 Found\n",
            "Location: https://uc28e677eeedf2c87d0e23a6511b.dl.dropboxusercontent.com/cd/0/get/A6gCnH7ErHdlGZaJ61Tna7Iy2KHquZBggFKuVz9DgTc45i93Bvs_RqYBeWG_bbGZIqNYcSQIfYSMTuMTdX8LrH6oP3Q5Q2xjyqZItRY38MXci7bOAcymasPy-U_8sY8e-SI/file?dl=1# [following]\n",
            "--2020-06-28 11:45:12--  https://uc28e677eeedf2c87d0e23a6511b.dl.dropboxusercontent.com/cd/0/get/A6gCnH7ErHdlGZaJ61Tna7Iy2KHquZBggFKuVz9DgTc45i93Bvs_RqYBeWG_bbGZIqNYcSQIfYSMTuMTdX8LrH6oP3Q5Q2xjyqZItRY38MXci7bOAcymasPy-U_8sY8e-SI/file?dl=1\n",
            "Resolving uc28e677eeedf2c87d0e23a6511b.dl.dropboxusercontent.com (uc28e677eeedf2c87d0e23a6511b.dl.dropboxusercontent.com)... 162.125.5.15, 2620:100:601d:15::a27d:50f\n",
            "Connecting to uc28e677eeedf2c87d0e23a6511b.dl.dropboxusercontent.com (uc28e677eeedf2c87d0e23a6511b.dl.dropboxusercontent.com)|162.125.5.15|:443... connected.\n",
            "HTTP request sent, awaiting response... 200 OK\n",
            "Length: 923533458 (881M) [application/binary]\n",
            "Saving to: ‘lr_1_0.joblib?dl=1’\n",
            "\n",
            "lr_1_0.joblib?dl=1  100%[===================>] 880.75M  56.7MB/s    in 18s     \n",
            "\n",
            "2020-06-28 11:45:30 (50.2 MB/s) - ‘lr_1_0.joblib?dl=1’ saved [923533458/923533458]\n",
            "\n"
          ],
          "name": "stdout"
        }
      ]
    },
    {
      "cell_type": "code",
      "metadata": {
        "id": "VSQuXKMRtZrK",
        "colab_type": "code",
        "colab": {}
      },
      "source": [
        "tfidf_vectorizer = load('tfidf_1_0.pkl?dl=1')\n",
        "model = load('lr_1_0.joblib?dl=1')"
      ],
      "execution_count": null,
      "outputs": []
    },
    {
      "cell_type": "code",
      "metadata": {
        "id": "0Vnazvp6tvJT",
        "colab_type": "code",
        "colab": {
          "base_uri": "https://localhost:8080/",
          "height": 364
        },
        "outputId": "e133ac57-ae63-4e5e-aabc-11c5d2e090ab"
      },
      "source": [
        "prep = TextPreprocessing(1,0)\n",
        "test = test_data.apply(prep.preprocess)\n",
        "test = tfidf_vectorizer.transform(test)\n",
        "y_pred = model.predict(test)\n",
        "print(classification_report(y_test, y_pred))"
      ],
      "execution_count": null,
      "outputs": [
        {
          "output_type": "stream",
          "text": [
            "              precision    recall  f1-score   support\n",
            "\n",
            "           0       0.78      0.78      0.78       934\n",
            "           1       0.74      0.92      0.82      3213\n",
            "           2       0.84      0.70      0.76      1745\n",
            "           3       0.92      0.90      0.91      1063\n",
            "           4       0.66      0.87      0.75      3244\n",
            "           5       0.93      0.97      0.95      2185\n",
            "           6       0.98      0.72      0.83       898\n",
            "           7       0.83      0.81      0.82      1641\n",
            "           8       0.91      0.89      0.90      1317\n",
            "           9       0.85      0.55      0.66      1447\n",
            "          10       0.73      0.47      0.57       588\n",
            "          11       0.94      0.43      0.59       881\n",
            "          12       0.96      0.90      0.93       844\n",
            "\n",
            "    accuracy                           0.81     20000\n",
            "   macro avg       0.85      0.76      0.79     20000\n",
            "weighted avg       0.82      0.81      0.80     20000\n",
            "\n"
          ],
          "name": "stdout"
        }
      ]
    },
    {
      "cell_type": "markdown",
      "metadata": {
        "id": "oz_Y95D8uPfk",
        "colab_type": "text"
      },
      "source": [
        "**Модель с удалением стоп-слов и с лемматизацией:**"
      ]
    },
    {
      "cell_type": "code",
      "metadata": {
        "id": "U_XeLocgtQyY",
        "colab_type": "code",
        "colab": {
          "base_uri": "https://localhost:8080/",
          "height": 730
        },
        "outputId": "770d804f-8658-4aed-94c4-bc95b812441b"
      },
      "source": [
        "!wget https://www.dropbox.com/s/y6chuopdmp1ug8z/tfidf_1_1.pkl?dl=1\n",
        "!wget https://www.dropbox.com/s/zuxzlhrg1do46fb/lr_1_1.joblib?dl=1"
      ],
      "execution_count": null,
      "outputs": [
        {
          "output_type": "stream",
          "text": [
            "--2020-06-28 11:52:53--  https://www.dropbox.com/s/y6chuopdmp1ug8z/tfidf_1_1.pkl?dl=1\n",
            "Resolving www.dropbox.com (www.dropbox.com)... 162.125.5.1, 2620:100:601d:1::a27d:501\n",
            "Connecting to www.dropbox.com (www.dropbox.com)|162.125.5.1|:443... connected.\n",
            "HTTP request sent, awaiting response... 301 Moved Permanently\n",
            "Location: /s/dl/y6chuopdmp1ug8z/tfidf_1_1.pkl [following]\n",
            "--2020-06-28 11:52:54--  https://www.dropbox.com/s/dl/y6chuopdmp1ug8z/tfidf_1_1.pkl\n",
            "Reusing existing connection to www.dropbox.com:443.\n",
            "HTTP request sent, awaiting response... 302 Found\n",
            "Location: https://uc666c6b619e5f09814a4aa0bfa5.dl.dropboxusercontent.com/cd/0/get/A6gA6Fu87jvSMhehXjfQjwzMgkVgqVVvCr_OHIaXoAOwfC9LJa_5vkAD4NRL8fTQLtV7D0q6nIeKRFEOM4hPWS3q0q6k3-AbHHDkKb1vygd1sZdkduPCebockDNWuxm5NQQ/file?dl=1# [following]\n",
            "--2020-06-28 11:52:54--  https://uc666c6b619e5f09814a4aa0bfa5.dl.dropboxusercontent.com/cd/0/get/A6gA6Fu87jvSMhehXjfQjwzMgkVgqVVvCr_OHIaXoAOwfC9LJa_5vkAD4NRL8fTQLtV7D0q6nIeKRFEOM4hPWS3q0q6k3-AbHHDkKb1vygd1sZdkduPCebockDNWuxm5NQQ/file?dl=1\n",
            "Resolving uc666c6b619e5f09814a4aa0bfa5.dl.dropboxusercontent.com (uc666c6b619e5f09814a4aa0bfa5.dl.dropboxusercontent.com)... 162.125.5.15, 2620:100:601d:15::a27d:50f\n",
            "Connecting to uc666c6b619e5f09814a4aa0bfa5.dl.dropboxusercontent.com (uc666c6b619e5f09814a4aa0bfa5.dl.dropboxusercontent.com)|162.125.5.15|:443... connected.\n",
            "HTTP request sent, awaiting response... 200 OK\n",
            "Length: 735707257 (702M) [application/binary]\n",
            "Saving to: ‘tfidf_1_1.pkl?dl=1’\n",
            "\n",
            "tfidf_1_1.pkl?dl=1  100%[===================>] 701.62M  52.9MB/s    in 14s     \n",
            "\n",
            "2020-06-28 11:53:09 (50.3 MB/s) - ‘tfidf_1_1.pkl?dl=1’ saved [735707257/735707257]\n",
            "\n",
            "--2020-06-28 11:53:11--  https://www.dropbox.com/s/zuxzlhrg1do46fb/lr_1_1.joblib?dl=1\n",
            "Resolving www.dropbox.com (www.dropbox.com)... 162.125.5.1, 2620:100:601d:1::a27d:501\n",
            "Connecting to www.dropbox.com (www.dropbox.com)|162.125.5.1|:443... connected.\n",
            "HTTP request sent, awaiting response... 301 Moved Permanently\n",
            "Location: /s/dl/zuxzlhrg1do46fb/lr_1_1.joblib [following]\n",
            "--2020-06-28 11:53:11--  https://www.dropbox.com/s/dl/zuxzlhrg1do46fb/lr_1_1.joblib\n",
            "Reusing existing connection to www.dropbox.com:443.\n",
            "HTTP request sent, awaiting response... 302 Found\n",
            "Location: https://uc98b6bc6ec766411547e6910f86.dl.dropboxusercontent.com/cd/0/get/A6gBTRqHONqH3m6ViEypuWpql3pHd5C4N8lswLHlNoJXbq2HlBnCNkD75D-SGfOs-dlTLc4oi_RuX3ufYcZGSbhfcH28xm03hCx9m2pLzZK7IITfjhiywf2BpF4EA8vkyXI/file?dl=1# [following]\n",
            "--2020-06-28 11:53:11--  https://uc98b6bc6ec766411547e6910f86.dl.dropboxusercontent.com/cd/0/get/A6gBTRqHONqH3m6ViEypuWpql3pHd5C4N8lswLHlNoJXbq2HlBnCNkD75D-SGfOs-dlTLc4oi_RuX3ufYcZGSbhfcH28xm03hCx9m2pLzZK7IITfjhiywf2BpF4EA8vkyXI/file?dl=1\n",
            "Resolving uc98b6bc6ec766411547e6910f86.dl.dropboxusercontent.com (uc98b6bc6ec766411547e6910f86.dl.dropboxusercontent.com)... 162.125.5.15, 2620:100:601d:15::a27d:50f\n",
            "Connecting to uc98b6bc6ec766411547e6910f86.dl.dropboxusercontent.com (uc98b6bc6ec766411547e6910f86.dl.dropboxusercontent.com)|162.125.5.15|:443... connected.\n",
            "HTTP request sent, awaiting response... 200 OK\n",
            "Length: 793052042 (756M) [application/binary]\n",
            "Saving to: ‘lr_1_1.joblib?dl=1’\n",
            "\n",
            "lr_1_1.joblib?dl=1  100%[===================>] 756.31M  55.6MB/s    in 14s     \n",
            "\n",
            "2020-06-28 11:53:26 (54.8 MB/s) - ‘lr_1_1.joblib?dl=1’ saved [793052042/793052042]\n",
            "\n"
          ],
          "name": "stdout"
        }
      ]
    },
    {
      "cell_type": "code",
      "metadata": {
        "id": "9-5XcydOtp8S",
        "colab_type": "code",
        "colab": {}
      },
      "source": [
        "tfidf_vectorizer = load('tfidf_1_1.pkl?dl=1')\n",
        "model = load('lr_1_1.joblib?dl=1')"
      ],
      "execution_count": null,
      "outputs": []
    },
    {
      "cell_type": "code",
      "metadata": {
        "id": "YU5gFvKvtyWE",
        "colab_type": "code",
        "colab": {
          "base_uri": "https://localhost:8080/",
          "height": 364
        },
        "outputId": "d0ed96f2-43a0-47a5-b8a1-c190b323ae25"
      },
      "source": [
        "prep = TextPreprocessing(1,1)\n",
        "test = test_data.apply(prep.preprocess)\n",
        "test = tfidf_vectorizer.transform(test)\n",
        "y_pred = model.predict(test)\n",
        "print(classification_report(y_test, y_pred))"
      ],
      "execution_count": null,
      "outputs": [
        {
          "output_type": "stream",
          "text": [
            "              precision    recall  f1-score   support\n",
            "\n",
            "           0       0.79      0.80      0.79       934\n",
            "           1       0.77      0.91      0.83      3213\n",
            "           2       0.83      0.72      0.77      1745\n",
            "           3       0.90      0.93      0.91      1063\n",
            "           4       0.70      0.86      0.77      3244\n",
            "           5       0.93      0.97      0.95      2185\n",
            "           6       0.96      0.75      0.84       898\n",
            "           7       0.83      0.82      0.83      1641\n",
            "           8       0.92      0.90      0.91      1317\n",
            "           9       0.85      0.56      0.68      1447\n",
            "          10       0.68      0.50      0.58       588\n",
            "          11       0.92      0.56      0.69       881\n",
            "          12       0.98      0.91      0.94       844\n",
            "\n",
            "    accuracy                           0.82     20000\n",
            "   macro avg       0.85      0.78      0.81     20000\n",
            "weighted avg       0.83      0.82      0.82     20000\n",
            "\n"
          ],
          "name": "stdout"
        }
      ]
    }
  ]
}